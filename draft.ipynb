{
 "cells": [
  {
   "cell_type": "code",
   "execution_count": null,
   "metadata": {},
   "outputs": [],
   "source": [
    "import scipy.special\n",
    "import numpy as np\n",
    "import torch\n",
    "from tqdm import tqdm\n",
    "import matplotlib.pyplot as plt\n",
    "from time import time\n",
    "import numqi\n",
    "from matplotlib.ticker import MaxNLocator\n",
    "import matplotlib.colors as mcolors\n",
    "from utils import GeometricCoherenceModel, get_real_equal_prob_state_geometric_coherence"
   ]
  },
  {
   "cell_type": "code",
   "execution_count": null,
   "metadata": {},
   "outputs": [],
   "source": [
    "def noise_maximally_coherent_state(dim, p):\n",
    "    tmp0 = np.ones(dim, dtype=np.float64)/np.sqrt(dim)\n",
    "    maximally_coherent_dm = tmp0.reshape(-1,1) * tmp0.conj()\n",
    "    noise_dm = p*maximally_coherent_dm + (1-p)*np.eye(dim)/dim\n",
    "    return noise_dm"
   ]
  },
  {
   "cell_type": "code",
   "execution_count": null,
   "metadata": {},
   "outputs": [],
   "source": [
    "dim = 30\n",
    "p_list = np.linspace(0, 1, 20)\n",
    "\n",
    "model = GeometricCoherenceModel(dim, num_term=4*dim, temperature=0.3)\n",
    "kwargs = dict(theta0='uniform', num_repeat=3, tol=1e-14, print_every_round=0)\n",
    "\n",
    "gc_list = []\n",
    "\n",
    "for p in tqdm(p_list):\n",
    "    model.set_density_matrix(noise_maximally_coherent_state(dim, p))\n",
    "    theta_opt = numqi.optimize.minimize(model, **kwargs).fun\n",
    "    with torch.no_grad():\n",
    "        gc_list.append(model(use_temperature=False).item())\n",
    "gc_list = np.array(gc_list)\n",
    "\n",
    "gc_analytical = get_real_equal_prob_state_geometric_coherence(dim, p_list)\n"
   ]
  },
  {
   "cell_type": "code",
   "execution_count": null,
   "metadata": {},
   "outputs": [],
   "source": [
    "err_list = np.abs(gc_list-gc_analytical)\n",
    "print(f'max error: {np.max(err_list)}')\n",
    "\n",
    "fig,ax = plt.subplots()\n",
    "ax.plot(p_list, gc_list, label='numerical')\n",
    "ax.plot(p_list, gc_analytical, 'x', label='analytical')\n",
    "ax.legend()\n",
    "ax.set_xlabel('p')\n",
    "ax.set_ylabel('geometric coherence')\n",
    "ax.set_title(f'dim={dim}')\n",
    "fig.tight_layout()"
   ]
  },
  {
   "cell_type": "code",
   "execution_count": null,
   "metadata": {},
   "outputs": [],
   "source": [
    "kwargs = dict(theta0='uniform', num_repeat=3, tol=1e-14, print_every_round=0)\n",
    "data_list = []\n",
    "p_list = np.linspace(0, 1, 20)\n",
    "for dim in tqdm(range(2, 51)):\n",
    "    model = GeometricCoherenceModel(dim, num_term=2*dim, temperature=0.3)\n",
    "    err_list = []\n",
    "    t_list = []\n",
    "    for p in p_list:\n",
    "        target_dm = noise_maximally_coherent_state(dim, p)\n",
    "        model.set_density_matrix(target_dm)\n",
    "        t0 = time()\n",
    "        theta_opt = numqi.optimize.minimize(model, **kwargs).fun\n",
    "        t_list.append(time()-t0)\n",
    "        with torch.no_grad():\n",
    "            err_list.append(np.abs(model(use_temperature=False).item()-get_real_equal_prob_state_geometric_coherence(dim, p)))\n",
    "    data_list.append([dim, np.max(err_list), np.mean(t_list)])\n",
    "data_np = np.array(data_list)"
   ]
  },
  {
   "cell_type": "code",
   "execution_count": null,
   "metadata": {},
   "outputs": [],
   "source": [
    "dim_list = data_np[:,0]\n",
    "max_err_list = data_np[:,1]\n",
    "mean_t_list = data_np[:,2]\n",
    "\n",
    "# choose colors from tableau\n",
    "\n",
    "fig, ax1 = plt.subplots()\n",
    "ax1.plot(dim_list, max_err_list, mcolors.TABLEAU_COLORS['tab:blue'])\n",
    "ax1.set_xlabel(r'Dimension $d$')\n",
    "ax1.xaxis.set_major_locator(MaxNLocator(integer=True))\n",
    "ax1.set_ylabel('Max abs error', color=mcolors.TABLEAU_COLORS['tab:blue'])\n",
    "ax1.set_yscale('log')\n",
    "ax1.tick_params(axis='y', labelcolor=mcolors.TABLEAU_COLORS['tab:blue'])\n",
    "\n",
    "ax2 = ax1.twinx()\n",
    "ax2.plot(dim_list, mean_t_list, mcolors.TABLEAU_COLORS['tab:orange'])\n",
    "ax2.set_ylabel('Time (s)', color=mcolors.TABLEAU_COLORS['tab:orange'])\n",
    "ax2.tick_params(axis='y', labelcolor=mcolors.TABLEAU_COLORS['tab:orange'])\n",
    "     \n",
    "fig.tight_layout()\n",
    "fig.savefig('noise_maximally_coherent_state.pdf')\n"
   ]
  },
  {
   "cell_type": "code",
   "execution_count": null,
   "metadata": {},
   "outputs": [],
   "source": []
  }
 ],
 "metadata": {
  "kernelspec": {
   "display_name": "Python 3",
   "language": "python",
   "name": "python3"
  },
  "language_info": {
   "codemirror_mode": {
    "name": "ipython",
    "version": 3
   },
   "file_extension": ".py",
   "mimetype": "text/x-python",
   "name": "python",
   "nbconvert_exporter": "python",
   "pygments_lexer": "ipython3",
   "version": "3.11.6"
  }
 },
 "nbformat": 4,
 "nbformat_minor": 2
}
