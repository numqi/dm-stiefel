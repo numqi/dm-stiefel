{
 "cells": [
  {
   "cell_type": "code",
   "execution_count": null,
   "metadata": {},
   "outputs": [],
   "source": [
    "import pickle\n",
    "import numpy as np\n",
    "import torch\n",
    "import matplotlib.pyplot as plt\n",
    "from time import time\n",
    "from tqdm import tqdm\n",
    "import numqi\n",
    "\n",
    "tableau = ['#006BA4', '#FF800E', '#ABABAB', '#595959', '#5F9ED1', '#C85200', '#898989', '#A2C8EC', '#FFBC79', '#CFCFCF']\n",
    "\n",
    "from utils import GeometricCoherenceModel, get_geometric_measure_coherence_sdp\n",
    "from utils import get_maximally_coherent_state_mixed, get_maximally_coherent_state_mixed_coherence"
   ]
  },
  {
   "cell_type": "markdown",
   "metadata": {},
   "source": [
    "# Geometric measure of coherence"
   ]
  },
  {
   "cell_type": "code",
   "execution_count": null,
   "metadata": {},
   "outputs": [],
   "source": [
    "dim = 5\n",
    "p_list = np.linspace(0, 1, 20)\n",
    "tmp0 = np.stack([get_maximally_coherent_state_mixed(dim, p) for p in p_list])\n",
    "ret_list_sdp = get_geometric_measure_coherence_sdp(tmp0)\n",
    "ret_list_analytical = get_maximally_coherent_state_mixed_coherence(dim, p_list)"
   ]
  },
  {
   "cell_type": "code",
   "execution_count": null,
   "metadata": {},
   "outputs": [],
   "source": [
    "fig, ax = plt.subplots()\n",
    "ax.plot(p_list, ret_list_sdp, '-', label='SDP')\n",
    "ax.plot(p_list, ret_list_analytical, 'x', label='Analytical')\n",
    "ax.set_xlabel('p')\n",
    "ax.set_ylabel('Geometric coherence')\n",
    "ax.legend()\n",
    "fig.tight_layout()\n"
   ]
  },
  {
   "cell_type": "code",
   "execution_count": null,
   "metadata": {},
   "outputs": [],
   "source": [
    "p_list = np.linspace(0, 1, 20)\n",
    "dim_list = [3, 5, 10, 30]\n",
    "kwargs = dict(theta0='uniform', num_repeat=3, tol=1e-14, print_every_round=0)\n",
    "gc_array = np.zeros((len(dim_list), len(p_list)))\n",
    "gc_analytical_array = np.zeros((len(dim_list), len(p_list)))\n",
    "for dim in dim_list:\n",
    "    model = GeometricCoherenceModel(dim, num_term=2*dim, temperature=0.3)\n",
    "    for i, p in enumerate(tqdm(p_list)):\n",
    "        model.set_density_matrix(get_maximally_coherent_state_mixed(dim, p))\n",
    "        theta_opt = numqi.optimize.minimize(model, **kwargs).fun\n",
    "        with torch.no_grad():\n",
    "            gc_array[dim_list.index(dim), i] = model(use_temperature=False).item()\n",
    "    gc_analytical_array[dim_list.index(dim)] = get_maximally_coherent_state_mixed_coherence(dim, p_list)"
   ]
  },
  {
   "cell_type": "code",
   "execution_count": null,
   "metadata": {},
   "outputs": [],
   "source": [
    "fig,ax = plt.subplots()\n",
    "for i, dim in enumerate(dim_list):\n",
    "    ax.plot(p_list, gc_analytical_array[i],'o',markerfacecolor='none', color=tableau[i])\n",
    "    ax.plot(p_list, gc_array[i],'-', color=tableau[i], label=f'$d={dim}$')\n",
    "ax.legend()\n",
    "# ax.set_xlabel('p', fontsize=12)\n",
    "# ax.set_ylabel(r'Geometric measure of coherence',fontsize=12)\n",
    "# ax.title.set_text('Noisy maximally coherent state')\n",
    "fig.tight_layout()\n",
    "#fig.savefig('data/noisy_maximally_coherent_state.pdf')"
   ]
  },
  {
   "cell_type": "code",
   "execution_count": null,
   "metadata": {},
   "outputs": [],
   "source": [
    "p_list = [0.05, 0.1, 0.5, 0.9, 0.95]\n",
    "kwargs = dict(theta0='uniform', num_repeat=3, tol=1e-14, print_every_round=0)\n",
    "dim_list = np.arange(2, 51)\n",
    "err_array = np.zeros((len(dim_list), len(p_list)))\n",
    "time_array_gd = np.zeros((len(dim_list), len(p_list)))\n",
    "time_array_sdp = np.zeros((len(dim_list), len(p_list)))\n",
    "for dim in tqdm(dim_list):\n",
    "    model = GeometricCoherenceModel(dim, num_term=2*dim, temperature=0.3)\n",
    "    for i, p in enumerate(p_list):\n",
    "        model.set_density_matrix(get_maximally_coherent_state_mixed(dim, p))\n",
    "        t0 = time()\n",
    "        theta_opt = numqi.optimize.minimize(model, **kwargs).fun\n",
    "        t1 = time()\n",
    "        get_geometric_measure_coherence_sdp(get_maximally_coherent_state_mixed(dim, p))\n",
    "        t2 = time()\n",
    "        time_array_gd[dim-2, i] = t1-t0\n",
    "        time_array_sdp[dim-2, i] = t2-t1\n",
    "        with torch.no_grad():\n",
    "            err_array[dim-2, i] = np.abs(model(use_temperature=False).item()-get_maximally_coherent_state_mixed_coherence(dim, p))"
   ]
  },
  {
   "cell_type": "code",
   "execution_count": null,
   "metadata": {},
   "outputs": [],
   "source": [
    "# save data in pkl\n",
    "with open('data/noisy_maximally_coherent_state.pkl', 'wb') as f:\n",
    "    pickle.dump([err_array, time_array_gd, time_array_sdp], f)"
   ]
  },
  {
   "cell_type": "code",
   "execution_count": null,
   "metadata": {},
   "outputs": [],
   "source": [
    "# load data from pkl\n",
    "with open('data/noisy_maximally_coherent_state.pkl', 'rb') as f:\n",
    "    err_array, time_array_gd, time_array_sdp = pickle.load(f)"
   ]
  },
  {
   "cell_type": "code",
   "execution_count": null,
   "metadata": {},
   "outputs": [],
   "source": [
    "fig,ax = plt.subplots()\n",
    "for i, p in enumerate(p_list):\n",
    "    ax.plot(dim_list, err_array[:,i],'-', label=f'$p={p}$', color=tableau[i])\n",
    "ax.legend()\n",
    "# ax.set_xlabel(r'Dimension $d$', fontsize=12)\n",
    "# ax.set_ylabel(r'Numerical error',fontsize=12)\n",
    "# ax.title.set_text('Noisy maximally coherent state')\n",
    "fig.tight_layout()\n",
    "#fig.savefig('data/noisy_maximally_coherent_state_error.pdf')"
   ]
  },
  {
   "cell_type": "code",
   "execution_count": null,
   "metadata": {},
   "outputs": [],
   "source": [
    "fig,ax = plt.subplots()\n",
    "for i, p in enumerate(p_list):\n",
    "    ax.plot(dim_list, time_array_gd[:,i],'-', label=f'$p={p}$', color=tableau[i])\n",
    "    ax.plot(dim_list, time_array_sdp[:,i],'--', color=tableau[i])\n",
    "ax.legend()\n",
    "# ax.set_xlabel(r'Dimension $d$', fontsize=12)\n",
    "ax.xaxis.set_major_locator(plt.MaxNLocator(integer=True))\n",
    "# ax.set_ylabel(r'Computational time',fontsize=12)\n",
    "# ax.title.set_text('Noisy maximally coherent state')\n",
    "fig.tight_layout()\n",
    "# fig.savefig('data/noisy_maximally_coherent_state_time.pdf')"
   ]
  },
  {
   "cell_type": "markdown",
   "metadata": {},
   "source": [
    "# Entanglement of formation"
   ]
  },
  {
   "cell_type": "code",
   "execution_count": null,
   "metadata": {},
   "outputs": [],
   "source": [
    "kwargs = dict(theta0='uniform', num_repeat=3, tol=1e-14, print_every_round=0)\n",
    "dA = 2\n",
    "dB = 3\n",
    "rank = 6\n",
    "dim = dA*dB\n",
    "t_polar = []\n",
    "t_exp = []\n",
    "t_euler = []\n",
    "for _ in range(10):\n",
    "    rho = numqi.random.rand_density_matrix(dim, k=rank)\n",
    "    model= numqi.entangle.EntanglementFormationModel(dA, dB, num_term=2*dim, method='euler', euler_with_phase=True)\n",
    "    model.set_density_matrix(rho)\n",
    "    t0 = time()\n",
    "    theta_optim = numqi.optimize.minimize(model, **kwargs)\n",
    "    t_euler.append(time()-t0)\n",
    "    model= numqi.entangle.EntanglementFormationModel(dA, dB, num_term=2*dim, method='so-exp', euler_with_phase=False)\n",
    "    model.set_density_matrix(rho)\n",
    "    t0 = time()\n",
    "    theta_optim = numqi.optimize.minimize(model, **kwargs)\n",
    "    t_exp.append(time()-t0)\n",
    "    model= numqi.entangle.EntanglementFormationModel(dA, dB, num_term=2*dim, method='polar', euler_with_phase=False)\n",
    "    model.set_density_matrix(rho)\n",
    "    t0 = time()\n",
    "    theta_optim = numqi.optimize.minimize(model, **kwargs)\n",
    "    t_polar.append(time()-t0)\n",
    "# print avg time (3 decimals) for each method\n",
    "print(f'polar: {np.mean(t_polar):.3f}')\n",
    "print(f'so-exp: {np.mean(t_exp):.3f}')\n",
    "print(f'euler: {np.mean(t_euler):.3f}')"
   ]
  },
  {
   "cell_type": "code",
   "execution_count": null,
   "metadata": {},
   "outputs": [],
   "source": [
    "alpha_list = np.linspace(0, 1, 50)\n",
    "dim_list = [3, 4, 5, 6]\n",
    "kwargs = dict(theta0='uniform', num_repeat=3, tol=1e-14, print_every_round=0)\n",
    "eof_array = np.zeros((len(dim_list), len(alpha_list)))\n",
    "for dim in dim_list:\n",
    "    model= numqi.entangle.EntanglementFormationModel(dim, dim, num_term=2*dim*dim)\n",
    "    for i, alpha in enumerate(tqdm(alpha_list)):\n",
    "        model.set_density_matrix(numqi.state.Werner(dim, alpha))\n",
    "        theta_optim = numqi.optimize.minimize(model, **kwargs)\n",
    "        eof_array[dim_list.index(dim), i] = theta_optim.fun"
   ]
  },
  {
   "cell_type": "code",
   "execution_count": null,
   "metadata": {},
   "outputs": [],
   "source": [
    "fig, ax = plt.subplots()\n",
    "\n",
    "for i, dim in enumerate(dim_list):\n",
    "    alpha_list_filter = alpha_list[alpha_list>1/dim]\n",
    "    eof_analytical = numqi.state.get_Werner_eof(dim, alpha=alpha_list_filter)\n",
    "    ax.plot(alpha_list_filter, eof_analytical, 'o', markerfacecolor='none', color=tableau[i])\n",
    "    ax.plot(alpha_list, eof_array[i],'-', label=f'$d={dim}$', color=tableau[i])\n",
    "    ax.axvline(1/dim, color=tableau[i], linestyle='--')\n",
    "ax.legend()\n",
    "# log scale\n",
    "ax.set_yscale('log')\n",
    "# ax.set_xlabel(r'$\\alpha$', fontsize=12)\n",
    "# ax.set_ylabel(r'Entanglement of formation',fontsize=12)\n",
    "# ax.set_title('Werner state')\n",
    "fig.tight_layout()\n",
    "#fig.savefig('data/Werner_state.pdf')"
   ]
  },
  {
   "cell_type": "code",
   "execution_count": null,
   "metadata": {},
   "outputs": [],
   "source": [
    "alpha_list = [0.05, 0.1, 0.5, 0.9, 0.95]\n",
    "kwargs = dict(theta0='uniform', num_repeat=3, tol=1e-14, print_every_round=0)\n",
    "dim_list = np.arange(2, 7)\n",
    "err_array = np.zeros((len(dim_list), len(alpha_list)))\n",
    "time_array = np.zeros((len(dim_list), len(alpha_list)))\n",
    "\n",
    "for dim in tqdm(dim_list):\n",
    "    model= numqi.entangle.EntanglementFormationModel(dim, dim, num_term=2*dim*dim)\n",
    "    for i, alpha in enumerate(alpha_list):\n",
    "        model.set_density_matrix(numqi.state.Werner(dim, alpha))\n",
    "        t0 = time()\n",
    "        theta_opt = numqi.optimize.minimize(model, **kwargs).fun\n",
    "        t1 = time()\n",
    "        time_array[dim-2, i] = t1-t0\n",
    "        err_array[dim-2, i] = np.abs(numqi.optimize.minimize(model, **kwargs).fun-numqi.state.get_Werner_eof(dim, alpha))"
   ]
  },
  {
   "cell_type": "code",
   "execution_count": null,
   "metadata": {},
   "outputs": [],
   "source": [
    "#save data in pkl\n",
    "with open('data/werner.pkl', 'wb') as f:\n",
    "    pickle.dump([err_array, time_array], f)"
   ]
  },
  {
   "cell_type": "code",
   "execution_count": null,
   "metadata": {},
   "outputs": [],
   "source": [
    "# load data from pkl\n",
    "with open('data/werner.pkl', 'rb') as f:\n",
    "    err_array, time_array = pickle.load(f)\n",
    "dim_list = np.arange(2, 7)\n",
    "\n",
    "fig,ax = plt.subplots()\n",
    "for i, alpha in enumerate(alpha_list):\n",
    "    ax.plot(dim_list, err_array[:,i],'-', label=f'$\\\\alpha={alpha}$', color=tableau[i])\n",
    "ax.legend()\n",
    "# ax.set_xlabel(r'Dimension $d$', fontsize=12)\n",
    "# ax.set_ylabel(r'Numerical error',fontsize=12)\n",
    "# ax.title.set_text('Werner state')\n",
    "# set x-axis to integer\n",
    "ax.xaxis.set_major_locator(plt.MaxNLocator(integer=True))\n",
    "fig.tight_layout()\n",
    "#fig.savefig('data/Werner_state_error.pdf')"
   ]
  },
  {
   "cell_type": "code",
   "execution_count": null,
   "metadata": {},
   "outputs": [],
   "source": [
    "fig,ax = plt.subplots()\n",
    "for i, alpha in enumerate(alpha_list):\n",
    "    ax.plot(dim_list, time_array[:,i],'-', label=f'$\\\\alpha={alpha}$', color=tableau[i])\n",
    "ax.legend()\n",
    "# ax.set_xlabel(r'Dimension $d$', fontsize=12)\n",
    "# ax.set_ylabel(r'Computational time',fontsize=12)\n",
    "# ax.title.set_text('Werner state')\n",
    "# set x-axis to integer\n",
    "ax.xaxis.set_major_locator(plt.MaxNLocator(integer=True))\n",
    "fig.tight_layout()\n",
    "# fig.savefig('data/Werner_state_time.pdf')"
   ]
  },
  {
   "cell_type": "markdown",
   "metadata": {},
   "source": [
    "# Linear entropy of entanglement"
   ]
  },
  {
   "cell_type": "code",
   "execution_count": null,
   "metadata": {},
   "outputs": [],
   "source": [
    "kwargs = dict(theta0='uniform', num_repeat=3, tol=1e-14, print_every_round=0)\n",
    "dA = 3\n",
    "dB = 3\n",
    "rank = 9\n",
    "dim = dA*dB\n",
    "t_polar = []\n",
    "t_ppt = []\n",
    "for _ in range(10):\n",
    "    rho = numqi.random.rand_density_matrix(dim, k=rank)\n",
    "    model = numqi.entangle.DensityMatrixLinearEntropyModel([dA,dB], num_ensemble=2*dim, kind='convex')\n",
    "    model.set_density_matrix(rho)\n",
    "    t0 = time()\n",
    "    theta_optim = numqi.optimize.minimize(model, **kwargs)\n",
    "    t_polar.append(time()-t0)\n",
    "    t0 = time()\n",
    "    numqi.entangle.get_linear_entropy_entanglement_ppt(rho, (dA,dB))\n",
    "    t_ppt.append(time()-t0)\n",
    "# print avg time (3 decimals) for each method\n",
    "print(f'polar: {np.mean(t_polar):.3f}')\n",
    "print(f'ppt: {np.mean(t_ppt):.3f}')\n"
   ]
  },
  {
   "cell_type": "code",
   "execution_count": null,
   "metadata": {},
   "outputs": [],
   "source": [
    "alpha_list = np.linspace(0, 1, 50)\n",
    "rho_list = np.stack([numqi.state.get_bes3x3_Horodecki1997(alpha) for alpha in alpha_list])\n",
    "ret_ppt = numqi.entangle.get_linear_entropy_entanglement_ppt(rho_list, (3,3), use_tqdm=True)\n",
    "\n",
    "ret_polar = []\n",
    "model = numqi.entangle.DensityMatrixLinearEntropyModel([3,3], num_ensemble=18, kind='convex')\n",
    "for rho in tqdm(rho_list):\n",
    "    model.set_density_matrix(rho)\n",
    "    ret_polar.append(numqi.optimize.minimize(model, num_repeat=3, tol=1e-14, print_every_round=0).fun)\n",
    "ret_polar = np.array(ret_polar)"
   ]
  },
  {
   "cell_type": "code",
   "execution_count": null,
   "metadata": {},
   "outputs": [],
   "source": [
    "# save date in pkl\n",
    "with open('data/linear_entropy_entanglement_ppt.pkl', 'wb') as f:\n",
    "    pickle.dump(ret_ppt, f)\n",
    "with open('data/linear_entropy_entanglement_polar.pkl', 'wb') as f:\n",
    "    pickle.dump(ret_polar, f)"
   ]
  },
  {
   "cell_type": "code",
   "execution_count": null,
   "metadata": {},
   "outputs": [],
   "source": [
    "alpha_list = np.linspace(0, 1, 50)\n",
    "# load data from pkl\n",
    "with open('data/linear_entropy_entanglement_ppt.pkl', 'rb') as f:\n",
    "    ret_ppt = pickle.load(f)\n",
    "with open('data/linear_entropy_entanglement_polar.pkl', 'rb') as f:\n",
    "    ret_polar = pickle.load(f)\n",
    "\n",
    "fig,ax = plt.subplots()\n",
    "ax.plot(alpha_list, ret_polar, label='GD', linestyle= '-', color=tableau[0])\n",
    "ax.plot(alpha_list, ret_ppt, label='SDP', linestyle= '--', color=tableau[1])\n",
    "ax.legend()\n",
    "# ax.set_xlabel(r'$\\alpha$', fontsize=12)\n",
    "# ax.set_ylabel(r'Linear entropy of entanglement', fontsize=12)\n",
    "# ax.set_yscale('log')\n",
    "# set yscale to sceintific notation\n",
    "ax.yaxis.get_major_formatter().set_powerlimits((0, 1))\n",
    "# ax.set_title('Horodecki state')\n",
    "fig.tight_layout()\n",
    "#fig.savefig('data/horodecki.pdf')"
   ]
  }
 ],
 "metadata": {
  "kernelspec": {
   "display_name": "Python 3",
   "language": "python",
   "name": "python3"
  },
  "language_info": {
   "codemirror_mode": {
    "name": "ipython",
    "version": 3
   },
   "file_extension": ".py",
   "mimetype": "text/x-python",
   "name": "python",
   "nbconvert_exporter": "python",
   "pygments_lexer": "ipython3",
   "version": "3.12.3"
  }
 },
 "nbformat": 4,
 "nbformat_minor": 2
}
